{
 "cells": [
  {
   "cell_type": "code",
   "execution_count": 1,
   "metadata": {
    "colab": {
     "base_uri": "https://localhost:8080/",
     "height": 105
    },
    "colab_type": "code",
    "id": "DwxpkQ1Gs515",
    "outputId": "ba8eb764-bb0d-4532-89e6-362d23511a5a"
   },
   "outputs": [
    {
     "name": "stderr",
     "output_type": "stream",
     "text": [
      "Using TensorFlow backend.\n"
     ]
    }
   ],
   "source": [
    "import funciones_wgan as f\n",
    "import numpy as np\n",
    "import cv2\n",
    "from keras.models import Model, Sequential\n",
    "from keras.layers import Input, Dense, Reshape, Flatten\n",
    "from keras.layers.convolutional import Convolution2D, Conv2DTranspose\n",
    "from keras.layers.normalization import BatchNormalization\n",
    "from keras.layers.advanced_activations import LeakyReLU\n",
    "from keras.optimizers import Adam\n",
    "from keras.datasets import mnist\n",
    "from keras import backend as K\n",
    "import matplotlib.pyplot as plt\n",
    "%matplotlib inline\n",
    "from time import time"
   ]
  },
  {
   "cell_type": "code",
   "execution_count": 2,
   "metadata": {
    "colab": {},
    "colab_type": "code",
    "id": "5sfgM_vqs51_",
    "outputId": "9e0c073b-7675-4d6d-f948-a6cec8595470"
   },
   "outputs": [
    {
     "name": "stdout",
     "output_type": "stream",
     "text": [
      "[name: \"/device:CPU:0\"\n",
      "device_type: \"CPU\"\n",
      "memory_limit: 268435456\n",
      "locality {\n",
      "}\n",
      "incarnation: 2523098243224075927\n",
      ", name: \"/device:GPU:0\"\n",
      "device_type: \"GPU\"\n",
      "memory_limit: 6690037432\n",
      "locality {\n",
      "  bus_id: 1\n",
      "  links {\n",
      "  }\n",
      "}\n",
      "incarnation: 4454277457119615573\n",
      "physical_device_desc: \"device: 0, name: GeForce GTX 1070, pci bus id: 0000:01:00.0, compute capability: 6.1\"\n",
      "]\n"
     ]
    }
   ],
   "source": [
    "from tensorflow.python.client import device_lib\n",
    "print(device_lib.list_local_devices())"
   ]
  },
  {
   "cell_type": "markdown",
   "metadata": {},
   "source": [
    "# Variables generales"
   ]
  },
  {
   "cell_type": "code",
   "execution_count": 3,
   "metadata": {},
   "outputs": [],
   "source": [
    "EPOCHS = 50\n",
    "BATCH_SIZE = 64\n",
    "# The training ratio is the number of discriminator updates\n",
    "# per generator update. The paper uses 5.\n",
    "TRAINING_RATIO = 5\n",
    "GRADIENT_PENALTY_WEIGHT = 10  # As per the paper\n",
    "INPUT_LEN = 128\n",
    "output_dir = 'output/'\n",
    "discriminator_weights = 'Weights/discriminator.h5'\n",
    "generator_weights = 'Weights/generator.h5'"
   ]
  },
  {
   "cell_type": "markdown",
   "metadata": {
    "colab_type": "text",
    "id": "9DP95mVWs52C"
   },
   "source": [
    "# Discriminador"
   ]
  },
  {
   "cell_type": "code",
   "execution_count": 4,
   "metadata": {
    "colab": {},
    "colab_type": "code",
    "id": "F_h5Fxwes52D"
   },
   "outputs": [],
   "source": [
    "def make_discriminator():\n",
    "    \"\"\"Creates a discriminator model that takes an image as input and outputs a single\n",
    "    value, representing whether the input is real or generated. Unlike normal GANs, the\n",
    "    output is not sigmoid and does not represent a probability! Instead, the output\n",
    "    should be as large and negative as possible for generated inputs and as large and\n",
    "    positive as possible for real inputs.\n",
    "    Note that the improved WGAN paper suggests that BatchNormalization should not be\n",
    "    used in the discriminator.\"\"\"\n",
    "    \n",
    "    model = Sequential()\n",
    "    model.add(Convolution2D(32, 5, padding='same', strides=[2, 2], input_shape=(256, 256, 3)))\n",
    "    model.add(LeakyReLU())\n",
    "\n",
    "    model.add(Convolution2D(64, 5, kernel_initializer='he_normal', strides=[2, 2], padding='same'))\n",
    "    model.add(LeakyReLU())\n",
    "\n",
    "    model.add(Convolution2D(128, 5, kernel_initializer='he_normal', padding='same', strides=[2, 2]))\n",
    "    model.add(LeakyReLU())\n",
    "\n",
    "    model.add(Convolution2D(256, 5, kernel_initializer='he_normal', padding='same', strides=[2, 2]))\n",
    "    model.add(LeakyReLU())\n",
    "\n",
    "    model.add(Convolution2D(512, 5, kernel_initializer='he_normal', padding='same', strides=[2, 2]))\n",
    "    model.add(LeakyReLU())\n",
    "\n",
    "    model.add(Convolution2D(1024, 5, kernel_initializer='he_normal', padding='same', strides=[2, 2]))\n",
    "    model.add(LeakyReLU())\n",
    "\n",
    "    model.add(Flatten())\n",
    "    #model.add(Dense(1024 * 4 * 4, kernel_initializer='he_normal'))\n",
    "    #model.add(LeakyReLU())\n",
    "    model.add(Dense(1, kernel_initializer='he_normal'))\n",
    "    \n",
    "    return model"
   ]
  },
  {
   "cell_type": "markdown",
   "metadata": {
    "colab_type": "text",
    "id": "tT79oszus52F"
   },
   "source": [
    "# Generador"
   ]
  },
  {
   "cell_type": "code",
   "execution_count": 5,
   "metadata": {
    "colab": {},
    "colab_type": "code",
    "id": "dhzjPvqXs52G"
   },
   "outputs": [],
   "source": [
    "def make_generator():\n",
    "    \"\"\"Creates a generator model that takes a 128-dimensional noise vector as a \"seed\",\n",
    "    and outputs images of size 256x256x3.\"\"\"\n",
    "    model = Sequential()\n",
    "    \n",
    "    model.add(Dense(4 * 4 * 2048, input_dim=INPUT_LEN))\n",
    "    model.add(BatchNormalization())\n",
    "    model.add(LeakyReLU())\n",
    "    model.add(Reshape((4, 4, 2048), input_shape=(4 * 4 * 2048,)))\n",
    "    bn_axis = -1\n",
    "\n",
    "    model.add(Conv2DTranspose(1024, 5, strides=2, padding='same'))\n",
    "    model.add(BatchNormalization(axis=bn_axis))\n",
    "    model.add(LeakyReLU())\n",
    "\n",
    "    model.add(Conv2DTranspose(512, 5, strides=2, padding='same'))\n",
    "    model.add(BatchNormalization(axis=bn_axis))\n",
    "    model.add(LeakyReLU())\n",
    "\n",
    "    model.add(Conv2DTranspose(256, 5, strides=2, padding='same'))\n",
    "    model.add(BatchNormalization(axis=bn_axis))\n",
    "    model.add(LeakyReLU())\n",
    "\n",
    "    model.add(Conv2DTranspose(128, 5, strides=2, padding='same'))\n",
    "    model.add(BatchNormalization(axis=bn_axis))\n",
    "    model.add(LeakyReLU())\n",
    "\n",
    "    model.add(Conv2DTranspose(64, 5, strides=2, padding='same'))\n",
    "    model.add(BatchNormalization(axis=bn_axis))\n",
    "    model.add(LeakyReLU())\n",
    "\n",
    "    model.add(Conv2DTranspose(3, 5, strides=2, padding='same', activation='tanh'))\n",
    "    # El output de esta última es 256x256x3\n",
    "    \n",
    "    return model"
   ]
  },
  {
   "cell_type": "markdown",
   "metadata": {
    "colab_type": "text",
    "id": "yO9tAxixs52I"
   },
   "source": [
    "# Carga de datos\n",
    "\n",
    "El archivo total_three_datasets_sorted.npy es una matriz que ya tiene las tres capas:\n",
    "* 0: T1\n",
    "* 1: FLAIR\n",
    "* 2: Máscara"
   ]
  },
  {
   "cell_type": "code",
   "execution_count": 6,
   "metadata": {
    "colab": {},
    "colab_type": "code",
    "id": "lAk6-T1Ms52J"
   },
   "outputs": [],
   "source": [
    "try:\n",
    "    images = np.load('total_three_datasets_sorted.npy')\n",
    "except:\n",
    "    images = np.load('images_three_datasets_sorted.npy')\n",
    "    masks = np.load('masks_three_datasets_sorted.npy')\n",
    "    \n",
    "    # Normalizado entre -1 y +1. Esto lo hace sobre toda la imagen, no sobre la capa T1 o FLAIR por separado.\n",
    "    # No tengo muy claro que sea correcto\n",
    "    images = [2.*(image - np.min(image))/np.ptp(image) - 1 for image in images]\n",
    "        \n",
    "    images = np.concatenate((images, masks), axis=3)\n",
    "    \n",
    "    # El generador toma imágenes 256x256x3. Como las tenemos 200x200, hay que redimensionarlas:\n",
    "    dim_final = (256, 256)\n",
    "    images = np.array([cv2.resize(image, dim_final, interpolation = cv2.INTER_AREA) for image in images])\n",
    "    \n",
    "    np.save('total_three_datasets_sorted.npy', images)\n",
    "    del masks"
   ]
  },
  {
   "cell_type": "code",
   "execution_count": 7,
   "metadata": {
    "colab": {},
    "colab_type": "code",
    "id": "g-3cz_OKs52L",
    "outputId": "d6486ae5-392e-4f21-c3f9-e5f60d2ef117"
   },
   "outputs": [
    {
     "data": {
      "text/plain": [
       "(2780, 256, 256, 3)"
      ]
     },
     "execution_count": 7,
     "metadata": {},
     "output_type": "execute_result"
    }
   ],
   "source": [
    "images.shape"
   ]
  },
  {
   "cell_type": "markdown",
   "metadata": {
    "colab_type": "text",
    "id": "O4QMHxqis52P"
   },
   "source": [
    "Si se trabaja con Tensorflow está bien porque los canales están en la última dimensión del array."
   ]
  },
  {
   "cell_type": "code",
   "execution_count": 8,
   "metadata": {
    "colab": {},
    "colab_type": "code",
    "id": "WxFWfW7xs52P",
    "outputId": "32075eea-c66e-43a9-dd1f-85a957f00c17"
   },
   "outputs": [
    {
     "name": "stdout",
     "output_type": "stream",
     "text": [
      "-0.9370657 -1.0\n"
     ]
    }
   ],
   "source": [
    "print(np.amin(images[34,...,0]), np.amin(images[34,...,1]))"
   ]
  },
  {
   "cell_type": "code",
   "execution_count": null,
   "metadata": {},
   "outputs": [],
   "source": [
    "n_images = images.shape[0]"
   ]
  },
  {
   "cell_type": "markdown",
   "metadata": {},
   "source": [
    "# Redes"
   ]
  },
  {
   "cell_type": "markdown",
   "metadata": {},
   "source": [
    "Inicialización de generador y discriminador."
   ]
  },
  {
   "cell_type": "code",
   "execution_count": null,
   "metadata": {
    "colab": {},
    "colab_type": "code",
    "id": "s-WR3_Xas52c"
   },
   "outputs": [
    {
     "name": "stdout",
     "output_type": "stream",
     "text": [
      "WARNING:tensorflow:From C:\\Users\\Javier\\AppData\\Local\\Continuum\\anaconda3\\envs\\keras_env\\lib\\site-packages\\tensorflow\\python\\framework\\op_def_library.py:263: colocate_with (from tensorflow.python.framework.ops) is deprecated and will be removed in a future version.\n",
      "Instructions for updating:\n",
      "Colocations handled automatically by placer.\n"
     ]
    }
   ],
   "source": [
    "generator = make_generator()\n",
    "discriminator = make_discriminator()"
   ]
  },
  {
   "cell_type": "code",
   "execution_count": null,
   "metadata": {},
   "outputs": [],
   "source": [
    "if generator_weights is not None:\n",
    "    generator.load_weights(generator_weights)\n",
    "    discriminator.load_weights(discriminator_weights)"
   ]
  },
  {
   "cell_type": "markdown",
   "metadata": {},
   "source": [
    "### Generador"
   ]
  },
  {
   "cell_type": "code",
   "execution_count": null,
   "metadata": {
    "colab": {},
    "colab_type": "code",
    "id": "GTOoa2ens52e"
   },
   "outputs": [],
   "source": [
    "# The generator_model is used when we want to train the generator layers.\n",
    "# As such, we ensure that the discriminator layers are not trainable.\n",
    "# Note that once we compile this model, updating .trainable will have no effect within\n",
    "# it. As such, it won't cause problems if we later set discriminator.trainable = True\n",
    "# for the discriminator_model, as long as we compile the generator_model first.\n",
    "for layer in discriminator.layers:\n",
    "    layer.trainable = False\n",
    "    \n",
    "discriminator.trainable = False\n",
    "generator_input = Input(shape=(INPUT_LEN,))\n",
    "generator_layers = generator(generator_input)\n",
    "discriminator_layers_for_generator = discriminator(generator_layers)\n",
    "generator_model = Model(inputs=[generator_input], outputs=[discriminator_layers_for_generator])\n",
    "# We use the Adam paramaters from Gulrajani et al.\n",
    "generator_model.compile(optimizer=Adam(0.0001, beta_1=0.5, beta_2=0.9), loss=f.wasserstein_loss)"
   ]
  },
  {
   "cell_type": "markdown",
   "metadata": {},
   "source": [
    "### Discriminador"
   ]
  },
  {
   "cell_type": "code",
   "execution_count": null,
   "metadata": {
    "colab": {},
    "colab_type": "code",
    "id": "exsb00Ffs52g"
   },
   "outputs": [],
   "source": [
    "# Now that the generator_model is compiled, we can make the discriminator\n",
    "# layers trainable.\n",
    "for layer in discriminator.layers:\n",
    "    layer.trainable = True\n",
    "    \n",
    "for layer in generator.layers:\n",
    "    layer.trainable = False\n",
    "    \n",
    "discriminator.trainable = True\n",
    "generator.trainable = False\n",
    "\n",
    "# The discriminator_model is more complex. It takes both real image samples and random\n",
    "# noise seeds as input. The noise seed is run through the generator model to get\n",
    "# generated images. Both real and generated images are then run through the\n",
    "# discriminator. Although we could concatenate the real and generated images into a\n",
    "# single tensor, we don't (see model compilation for why).\n",
    "real_samples = Input(shape=images.shape[1:])\n",
    "generator_input_for_discriminator = Input(shape=(INPUT_LEN,))\n",
    "generated_samples_for_discriminator = generator(generator_input_for_discriminator)\n",
    "discriminator_output_from_generator = discriminator(generated_samples_for_discriminator)\n",
    "discriminator_output_from_real_samples = discriminator(real_samples)"
   ]
  },
  {
   "cell_type": "code",
   "execution_count": null,
   "metadata": {
    "colab": {},
    "colab_type": "code",
    "id": "zSFtg_Qhs52k"
   },
   "outputs": [],
   "source": [
    "# We also need to generate weighted-averages of real and generated samples,\n",
    "# to use for the gradient norm penalty.\n",
    "averaged_samples = f.RandomWeightedAverage()([real_samples,\n",
    "                                            generated_samples_for_discriminator])\n",
    "# We then run these samples through the discriminator as well. Note that we never\n",
    "# really use the discriminator output for these samples - we're only running them to\n",
    "# get the gradient norm for the gradient penalty loss.\n",
    "averaged_samples_out = discriminator(averaged_samples)"
   ]
  },
  {
   "cell_type": "code",
   "execution_count": null,
   "metadata": {
    "colab": {},
    "colab_type": "code",
    "id": "4TmGyJyhs52m"
   },
   "outputs": [],
   "source": [
    "# The gradient penalty loss function requires the input averaged samples to get\n",
    "# gradients. However, Keras loss functions can only have two arguments, y_true and\n",
    "# y_pred. We get around this by making a partial() of the function with the averaged\n",
    "# samples here.\n",
    "partial_gp_loss = f.partial(f.gradient_penalty_loss,\n",
    "                            averaged_samples=averaged_samples, gradient_penalty_weight=GRADIENT_PENALTY_WEIGHT)\n",
    "# Functions need names or Keras will throw an error\n",
    "partial_gp_loss.__name__ = 'gradient_penalty'"
   ]
  },
  {
   "cell_type": "code",
   "execution_count": null,
   "metadata": {
    "colab": {},
    "colab_type": "code",
    "id": "8xqzj98js52p"
   },
   "outputs": [],
   "source": [
    "# Keras requires that inputs and outputs have the same number of samples. This is why\n",
    "# we didn't concatenate the real samples and generated samples before passing them to\n",
    "# the discriminator: If we had, it would create an output with 2 * BATCH_SIZE samples,\n",
    "# while the output of the \"averaged\" samples for gradient penalty\n",
    "# would have only BATCH_SIZE samples.\n",
    "\n",
    "# If we don't concatenate the real and generated samples, however, we get three\n",
    "# outputs: One of the generated samples, one of the real samples, and one of the\n",
    "# averaged samples, all of size BATCH_SIZE. This works neatly!\n",
    "discriminator_model = Model(inputs=[real_samples, generator_input_for_discriminator],\n",
    "                            outputs=[discriminator_output_from_real_samples, discriminator_output_from_generator, averaged_samples_out])"
   ]
  },
  {
   "cell_type": "code",
   "execution_count": null,
   "metadata": {
    "colab": {},
    "colab_type": "code",
    "id": "rgkg3-r4s52r"
   },
   "outputs": [],
   "source": [
    "# We use the Adam paramaters from Gulrajani et al. We use the Wasserstein loss for both\n",
    "# the real and generated samples, and the gradient penalty loss for the averaged samples\n",
    "discriminator_model.compile(optimizer=Adam(0.0001, beta_1=0.5, beta_2=0.9),\n",
    "                            loss=[f.wasserstein_loss, f.wasserstein_loss, partial_gp_loss])\n",
    "\n",
    "# We make three label vectors for training. positive_y is the label vector for real\n",
    "# samples, with value 1. negative_y is the label vector for generated samples, with\n",
    "# value -1. The dummy_y vector is passed to the gradient_penalty loss function and\n",
    "# is not used.\n",
    "positive_y = np.ones((BATCH_SIZE, 1), dtype=np.float32)\n",
    "negative_y = -positive_y\n",
    "dummy_y = np.zeros((BATCH_SIZE, 1), dtype=np.float32)"
   ]
  },
  {
   "cell_type": "code",
   "execution_count": null,
   "metadata": {
    "colab": {},
    "colab_type": "code",
    "id": "9c7EK-V-s52t"
   },
   "outputs": [
    {
     "name": "stdout",
     "output_type": "stream",
     "text": [
      "Epoch:  0\n",
      "Number of batches:  43\n",
      "WARNING:tensorflow:From C:\\Users\\Javier\\AppData\\Local\\Continuum\\anaconda3\\envs\\keras_env\\lib\\site-packages\\tensorflow\\python\\ops\\math_ops.py:3066: to_int32 (from tensorflow.python.ops.math_ops) is deprecated and will be removed in a future version.\n",
      "Instructions for updating:\n",
      "Use tf.cast instead.\n"
     ]
    },
    {
     "name": "stderr",
     "output_type": "stream",
     "text": [
      "C:\\Users\\Javier\\AppData\\Local\\Continuum\\anaconda3\\envs\\keras_env\\lib\\site-packages\\keras\\engine\\training.py:490: UserWarning: Discrepancy between trainable weights and collected trainable weights, did you set `model.trainable` without calling `model.compile` after ?\n",
      "  'Discrepancy between trainable weights and collected trainable'\n"
     ]
    },
    {
     "name": "stdout",
     "output_type": "stream",
     "text": [
      "Epoch 0 took 60.18736529350281\n",
      "Saving weights\n",
      "Epoch:  1\n",
      "Number of batches:  43\n",
      "Epoch 1 took 55.036746978759766\n",
      "Epoch:  2\n",
      "Number of batches:  43\n",
      "Epoch 2 took 72.27049970626831\n",
      "Epoch:  3\n",
      "Number of batches:  43\n",
      "Epoch 3 took 85.26022982597351\n",
      "Epoch:  4\n",
      "Number of batches:  43\n",
      "Epoch 4 took 87.1864366531372\n",
      "Epoch:  5\n",
      "Number of batches:  43\n",
      "Epoch 5 took 88.01648569107056\n",
      "Epoch:  6\n",
      "Number of batches:  43\n",
      "Epoch 6 took 91.80798649787903\n",
      "Epoch:  7\n",
      "Number of batches:  43\n",
      "Epoch 7 took 96.11709499359131\n",
      "Epoch:  8\n",
      "Number of batches:  43\n",
      "Epoch 8 took 86.81873798370361\n",
      "Epoch:  9\n",
      "Number of batches:  43\n",
      "Epoch 9 took 92.80579280853271\n",
      "Epoch:  10\n",
      "Number of batches:  43\n",
      "Epoch 10 took 93.49677515029907\n",
      "Saving weights\n",
      "Epoch:  11\n",
      "Number of batches:  43\n",
      "Epoch 11 took 95.28021121025085\n",
      "Epoch:  12\n",
      "Number of batches:  43\n",
      "Epoch 12 took 90.56202435493469\n",
      "Epoch:  13\n",
      "Number of batches:  43\n",
      "Epoch 13 took 87.54221320152283\n",
      "Epoch:  14\n",
      "Number of batches:  43\n",
      "Epoch 14 took 89.26847267150879\n",
      "Epoch:  15\n",
      "Number of batches:  43\n",
      "Epoch 15 took 92.49426865577698\n",
      "Epoch:  16\n",
      "Number of batches:  43\n",
      "Epoch 16 took 94.0590307712555\n",
      "Epoch:  17\n",
      "Number of batches:  43\n",
      "Epoch 17 took 91.50281167030334\n",
      "Epoch:  18\n",
      "Number of batches:  43\n",
      "Epoch 18 took 86.17045068740845\n",
      "Epoch:  19\n",
      "Number of batches:  43\n",
      "Epoch 19 took 84.95144391059875\n",
      "Epoch:  20\n",
      "Number of batches:  43\n",
      "Epoch 20 took 87.23264074325562\n",
      "Saving weights\n",
      "Epoch:  21\n",
      "Number of batches:  43\n",
      "Epoch 21 took 81.59648275375366\n",
      "Epoch:  22\n",
      "Number of batches:  43\n",
      "Epoch 22 took 88.24478030204773\n",
      "Epoch:  23\n",
      "Number of batches:  43\n",
      "Epoch 23 took 90.06071448326111\n",
      "Epoch:  24\n",
      "Number of batches:  43\n",
      "Epoch 24 took 89.54241061210632\n",
      "Epoch:  25\n",
      "Number of batches:  43\n",
      "Epoch 25 took 92.51793360710144\n",
      "Epoch:  26\n",
      "Number of batches:  43\n",
      "Epoch 26 took 93.94031119346619\n",
      "Epoch:  27\n",
      "Number of batches:  43\n",
      "Epoch 27 took 93.37514567375183\n",
      "Epoch:  28\n",
      "Number of batches:  43\n",
      "Epoch 28 took 91.4903290271759\n",
      "Epoch:  29\n",
      "Number of batches:  43\n",
      "Epoch 29 took 93.32199740409851\n",
      "Epoch:  30\n",
      "Number of batches:  43\n",
      "Epoch 30 took 91.17839622497559\n",
      "Saving weights\n",
      "Epoch:  31\n",
      "Number of batches:  43\n",
      "Epoch 31 took 89.09194302558899\n",
      "Epoch:  32\n",
      "Number of batches:  43\n",
      "Epoch 32 took 95.99986267089844\n",
      "Epoch:  33\n",
      "Number of batches:  43\n",
      "Epoch 33 took 93.83109498023987\n",
      "Epoch:  34\n",
      "Number of batches:  43\n"
     ]
    }
   ],
   "source": [
    "for epoch in range(EPOCHS):\n",
    "    start = time()\n",
    "    np.random.shuffle(images)\n",
    "    print(\"Epoch: \", epoch)\n",
    "    print(\"Number of batches: \", int(n_images // BATCH_SIZE))\n",
    "    discriminator_loss = []\n",
    "    generator_loss = []\n",
    "    minibatches_size = BATCH_SIZE * TRAINING_RATIO\n",
    "    \n",
    "    for i in range(int(n_images // (BATCH_SIZE * TRAINING_RATIO))):\n",
    "        discriminator_minibatches = images[i * minibatches_size: (i + 1) * minibatches_size]\n",
    "        \n",
    "        for j in range(TRAINING_RATIO):\n",
    "            image_batch = discriminator_minibatches[j * BATCH_SIZE: (j + 1) * BATCH_SIZE]\n",
    "            noise = np.random.rand(BATCH_SIZE, INPUT_LEN).astype(np.float32)\n",
    "            discriminator_loss_val = discriminator_model.train_on_batch([image_batch, noise], [positive_y, negative_y, dummy_y])\n",
    "            discriminator_loss.append(discriminator_loss_val)\n",
    "        \n",
    "        generator_loss_val = generator_model.train_on_batch(np.random.rand(BATCH_SIZE, INPUT_LEN), positive_y)\n",
    "        generator_loss.append(generator_loss_val)\n",
    "    \n",
    "    print(f'Epoch {epoch} took {time() - start}')\n",
    "    \n",
    "    f.generate_images(generator, output_dir, epoch, 10, method='FLAIR')\n",
    "    f.generate_images(generator, output_dir, epoch, 10, method='T1')\n",
    "    \n",
    "    if epoch % 10 == 0:\n",
    "        print('Saving weights')\n",
    "        generator.save_weights(f'generator_epoch_{epoch}.h5')\n",
    "        discriminator.save_weights(f'discriminator_epoch_{epoch}.h5')"
   ]
  },
  {
   "cell_type": "code",
   "execution_count": null,
   "metadata": {},
   "outputs": [],
   "source": []
  }
 ],
 "metadata": {
  "accelerator": "GPU",
  "colab": {
   "name": "wgan.ipynb",
   "provenance": [],
   "version": "0.3.2"
  },
  "kernelspec": {
   "display_name": "Python 3",
   "language": "python",
   "name": "python3"
  },
  "language_info": {
   "codemirror_mode": {
    "name": "ipython",
    "version": 3
   },
   "file_extension": ".py",
   "mimetype": "text/x-python",
   "name": "python",
   "nbconvert_exporter": "python",
   "pygments_lexer": "ipython3",
   "version": "3.6.8"
  }
 },
 "nbformat": 4,
 "nbformat_minor": 1
}
